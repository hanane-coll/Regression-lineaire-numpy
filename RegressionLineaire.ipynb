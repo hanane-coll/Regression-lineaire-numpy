{
 "cells": [
  {
   "cell_type": "markdown",
   "id": "9d518950",
   "metadata": {},
   "source": [
    "# Régression Linéaire Simple Numpy"
   ]
  },
  {
   "cell_type": "code",
   "execution_count": 14,
   "id": "7d2655dc",
   "metadata": {},
   "outputs": [],
   "source": [
    "import numpy as np\n",
    "from sklearn.datasets import make_regression\n",
    "import matplotlib.pyplot as plt"
   ]
  },
  {
   "cell_type": "markdown",
   "id": "89e5266e",
   "metadata": {},
   "source": [
    "# 1. Dataset"
   ]
  },
  {
   "cell_type": "raw",
   "id": "e96c115d",
   "metadata": {},
   "source": [
    "Génération de données aléatoires avec make_regression: on a un dataset (x,y) qui contient 100 exemples, et une seule variable x. \n",
    "PS: chaque fois que la cellule est executée, des données différentes sont générer. On peut ajouter np.random.seed(0) pour toujours produire le meme dataset."
   ]
  },
  {
   "cell_type": "code",
   "execution_count": 15,
   "id": "689475d5",
   "metadata": {
    "scrolled": true
   },
   "outputs": [
    {
     "data": {
      "text/plain": [
       "<matplotlib.collections.PathCollection at 0x7fa07b610520>"
      ]
     },
     "execution_count": 15,
     "metadata": {},
     "output_type": "execute_result"
    },
    {
     "data": {
      "image/png": "[encoded data removed]",
      "text/plain": [
       "<Figure size 432x288 with 1 Axes>"
      ]
     },
     "metadata": {
      "needs_background": "light"
     },
     "output_type": "display_data"
    }
   ],
   "source": [
    "x, y = make_regression(n_samples=100, n_features=1, noise=10)\n",
    "plt.scatter(x, y) # afficher les résultats."
   ]
  },
  {
   "cell_type": "code",
   "execution_count": 16,
   "id": "420d62b1",
   "metadata": {},
   "outputs": [
    {
     "name": "stdout",
     "output_type": "stream",
     "text": [
      "(100, 1)\n",
      "(100,)\n",
      "(100, 1)\n"
     ]
    }
   ],
   "source": [
    "print(x.shape)\n",
    "print(y.shape)\n",
    "\n",
    "# redimensionner y. On remarque que n'y a pas les dimensions(100,1)\n",
    "# on corrige le problème avec np.reshape\n",
    "y = y.reshape(y.shape[0], 1)\n",
    "\n",
    "print(y.shape)"
   ]
  },
  {
   "cell_type": "raw",
   "id": "b97df00a",
   "metadata": {},
   "source": [
    "Création de la matrice X qui contient la colonne de Biais. \n",
    "Pour ca, on colle l'un contre l'autre le vecteur x et un vecteur 1 (avec np.ones) de dimension égale a celle de x."
   ]
  },
  {
   "cell_type": "code",
   "execution_count": 17,
   "id": "a4b60c1a",
   "metadata": {},
   "outputs": [
    {
     "name": "stdout",
     "output_type": "stream",
     "text": [
      "(100, 2)\n"
     ]
    },
    {
     "data": {
      "text/plain": [
       "array([[ 0.52355016,  1.        ],\n",
       "       [-0.03530386,  1.        ],\n",
       "       [ 0.72739009,  1.        ],\n",
       "       [ 0.31855089,  1.        ],\n",
       "       [ 1.1203963 ,  1.        ],\n",
       "       [-1.70524971,  1.        ],\n",
       "       [-0.7259239 ,  1.        ],\n",
       "       [-0.88695936,  1.        ],\n",
       "       [-0.78492007,  1.        ],\n",
       "       [ 0.06161322,  1.        ],\n",
       "       [-1.79540518,  1.        ],\n",
       "       [-0.66139136,  1.        ],\n",
       "       [-0.43727651,  1.        ],\n",
       "       [-0.33630518,  1.        ],\n",
       "       [-0.54769434,  1.        ],\n",
       "       [-0.07742133,  1.        ],\n",
       "       [ 0.56536884,  1.        ],\n",
       "       [ 1.10859735,  1.        ],\n",
       "       [ 0.89749123,  1.        ],\n",
       "       [-0.23706702,  1.        ],\n",
       "       [-1.17703547,  1.        ],\n",
       "       [ 0.23649304,  1.        ],\n",
       "       [-0.15395858,  1.        ],\n",
       "       [ 0.83428603,  1.        ],\n",
       "       [ 0.16436773,  1.        ],\n",
       "       [ 1.46035249,  1.        ],\n",
       "       [-0.46644897,  1.        ],\n",
       "       [ 0.52135191,  1.        ],\n",
       "       [-0.40316967,  1.        ],\n",
       "       [ 1.19794688,  1.        ],\n",
       "       [ 0.01415597,  1.        ],\n",
       "       [ 1.22151437,  1.        ],\n",
       "       [-0.28951067,  1.        ],\n",
       "       [-1.03023354,  1.        ],\n",
       "       [ 0.64644529,  1.        ],\n",
       "       [-0.14838622,  1.        ],\n",
       "       [ 0.82000873,  1.        ],\n",
       "       [-0.97272571,  1.        ],\n",
       "       [-0.29794903,  1.        ],\n",
       "       [ 0.20480126,  1.        ],\n",
       "       [-0.75934815,  1.        ],\n",
       "       [ 1.27202875,  1.        ],\n",
       "       [ 1.19912278,  1.        ],\n",
       "       [ 1.92866266,  1.        ],\n",
       "       [ 0.3361294 ,  1.        ],\n",
       "       [ 0.30214598,  1.        ],\n",
       "       [-0.76872158,  1.        ],\n",
       "       [ 0.51545291,  1.        ],\n",
       "       [ 0.13787668,  1.        ],\n",
       "       [-0.9147766 ,  1.        ],\n",
       "       [ 0.66903123,  1.        ],\n",
       "       [-0.3622207 ,  1.        ],\n",
       "       [ 0.1887128 ,  1.        ],\n",
       "       [ 0.58226328,  1.        ],\n",
       "       [ 0.7967242 ,  1.        ],\n",
       "       [-0.39559482,  1.        ],\n",
       "       [ 0.12319829,  1.        ],\n",
       "       [-2.07767561,  1.        ],\n",
       "       [-0.53408031,  1.        ],\n",
       "       [ 1.69897859,  1.        ],\n",
       "       [-1.33069487,  1.        ],\n",
       "       [-0.97386567,  1.        ],\n",
       "       [-1.33541541,  1.        ],\n",
       "       [-0.51507571,  1.        ],\n",
       "       [-1.69047523,  1.        ],\n",
       "       [ 0.70396271,  1.        ],\n",
       "       [ 1.96546863,  1.        ],\n",
       "       [-0.47397545,  1.        ],\n",
       "       [ 1.93189941,  1.        ],\n",
       "       [-1.1404669 ,  1.        ],\n",
       "       [-0.66242675,  1.        ],\n",
       "       [ 0.43139686,  1.        ],\n",
       "       [ 0.99086878,  1.        ],\n",
       "       [-0.49425048,  1.        ],\n",
       "       [-2.24423978,  1.        ],\n",
       "       [ 0.49058463,  1.        ],\n",
       "       [-0.87462453,  1.        ],\n",
       "       [-1.01041234,  1.        ],\n",
       "       [ 1.16936529,  1.        ],\n",
       "       [ 0.36435224,  1.        ],\n",
       "       [ 1.06360752,  1.        ],\n",
       "       [-1.96597954,  1.        ],\n",
       "       [-0.87636629,  1.        ],\n",
       "       [-1.13781439,  1.        ],\n",
       "       [ 1.2948079 ,  1.        ],\n",
       "       [ 1.18646276,  1.        ],\n",
       "       [-0.63699545,  1.        ],\n",
       "       [ 1.0471252 ,  1.        ],\n",
       "       [ 1.91606008,  1.        ],\n",
       "       [ 0.11376534,  1.        ],\n",
       "       [-1.13203834,  1.        ],\n",
       "       [-0.02129381,  1.        ],\n",
       "       [ 0.71217266,  1.        ],\n",
       "       [ 0.48948606,  1.        ],\n",
       "       [ 1.17019241,  1.        ],\n",
       "       [-0.60682963,  1.        ],\n",
       "       [-0.3616959 ,  1.        ],\n",
       "       [-0.20990805,  1.        ],\n",
       "       [-1.12034288,  1.        ],\n",
       "       [ 1.2232885 ,  1.        ]])"
      ]
     },
     "execution_count": 17,
     "metadata": {},
     "output_type": "execute_result"
    }
   ],
   "source": [
    "#matrice X\n",
    "X = np.hstack((x, np.ones(x.shape)))\n",
    "print(X.shape)\n",
    "X"
   ]
  },
  {
   "cell_type": "raw",
   "id": "95638206",
   "metadata": {},
   "source": [
    "Finalement, création d'un vecteur parametre 𝛉, initialisé avec des coefficients aléatoires. Ce vecteur est de dimension (2, 1)."
   ]
  },
  {
   "cell_type": "code",
   "execution_count": 18,
   "id": "c6fc06e0",
   "metadata": {},
   "outputs": [
    {
     "data": {
      "text/plain": [
       "array([[-0.48370321],\n",
       "       [-0.11684942]])"
      ]
     },
     "execution_count": 18,
     "metadata": {},
     "output_type": "execute_result"
    }
   ],
   "source": [
    "theta = np.random.randn(2, 1)\n",
    "theta"
   ]
  },
  {
   "cell_type": "markdown",
   "id": "2bed9073",
   "metadata": {},
   "source": [
    "# 2. Modèle Linéaire"
   ]
  },
  {
   "cell_type": "raw",
   "id": "dc8cf8e6",
   "metadata": {},
   "source": [
    "On implémente un modele F = X.𝛉, puis on teste le modele pour voir s'il n'y a pas de bug (bonne pratique oblige). En plus, cela permet de voir a quoi ressemble le modele initial, défini par la valeur de 𝛉"
   ]
  },
  {
   "cell_type": "code",
   "execution_count": 19,
   "id": "bbce4f46",
   "metadata": {},
   "outputs": [],
   "source": [
    "def model(X, theta):\n",
    "    return X.dot(theta)"
   ]
  },
  {
   "cell_type": "code",
   "execution_count": 20,
   "id": "f9c340b3",
   "metadata": {},
   "outputs": [
    {
     "data": {
      "text/plain": [
       "[<matplotlib.lines.Line2D at 0x7fa07c071c10>]"
      ]
     },
     "execution_count": 20,
     "metadata": {},
     "output_type": "execute_result"
    },
    {
     "data": {
      "image/png": "[encoded data removed]",
      "text/plain": [
       "<Figure size 432x288 with 1 Axes>"
      ]
     },
     "metadata": {
      "needs_background": "light"
     },
     "output_type": "display_data"
    }
   ],
   "source": [
    "plt.scatter(x, y)\n",
    "plt.plot(x, model(X, theta), c='r')"
   ]
  },
  {
   "cell_type": "markdown",
   "id": "d0775598",
   "metadata": {},
   "source": [
    "# 3. Fonction Cout "
   ]
  },
  {
   "cell_type": "raw",
   "id": "aba6e041",
   "metadata": {},
   "source": [
    "On mesure les erreurs du modele sur le Dataset X, y en implémenterl'erreur quadratique moyenne, Mean Squared Error (MSE) en anglais.\n",
    "Ensuite, on teste notre fonction, pour voir s'il n'y a pas de bug"
   ]
  },
  {
   "cell_type": "code",
   "execution_count": 21,
   "id": "5a90bfb4",
   "metadata": {},
   "outputs": [],
   "source": [
    "def cost_function(X, y, theta):\n",
    "    m = len(y)\n",
    "    return 1/(2*m) * np.sum((model(X, theta) - y)**2)"
   ]
  },
  {
   "cell_type": "code",
   "execution_count": 22,
   "id": "d461e70a",
   "metadata": {},
   "outputs": [
    {
     "data": {
      "text/plain": [
       "4373.73410079119"
      ]
     },
     "execution_count": 22,
     "metadata": {},
     "output_type": "execute_result"
    }
   ],
   "source": [
    "cost_function(X, y, theta)"
   ]
  },
  {
   "cell_type": "markdown",
   "id": "723618e3",
   "metadata": {},
   "source": [
    "# 4. Gradients et Descente de Gradient"
   ]
  },
  {
   "cell_type": "raw",
   "id": "be5c2681",
   "metadata": {},
   "source": [
    "On implémente la formule du gradient pour la MSE\n",
    "Ensuite on utilise cette fonction dans la descente de gradient:"
   ]
  },
  {
   "cell_type": "code",
   "execution_count": 25,
   "id": "913d8407",
   "metadata": {},
   "outputs": [],
   "source": [
    "def grad(X, y, theta):\n",
    "    m = len(y)\n",
    "    XT = np.transpose(X)\n",
    "    return 1/m * XT.dot(model(X, theta) - y)"
   ]
  },
  {
   "cell_type": "code",
   "execution_count": 29,
   "id": "1b3dc8e7",
   "metadata": {},
   "outputs": [],
   "source": [
    "def gradient_descent(X, y, theta, learning_rate, n_iterations):\n",
    "    cost_history = np.zeros(n_iterations)# création d'un tableau de stockage pour enregistrer l'évolution du Cout du modele\n",
    "    for i in range(0, n_iterations):\n",
    "        theta = theta - learning_rate * grad(X, y, theta)# mise a jour du parametre theta (formule du gradient descent)\n",
    "        cost_history[i] = cost_function(X, y, theta)# on enregistre la valeur du Cout au tour i dans cost_history[i]\n",
    "    return theta, cost_history"
   ]
  },
  {
   "cell_type": "markdown",
   "id": "0350cf26",
   "metadata": {},
   "source": [
    "# 5. Phase d'entrainement"
   ]
  },
  {
   "cell_type": "raw",
   "id": "3ff6ca29",
   "metadata": {},
   "source": [
    "On définit un nombre d'itérations, ainsi qu'un pas d'apprentissage 𝛼, et c'est partit !\n",
    "Une fois le modele entrainé, on observe les resultats par rapport a notre Dataset"
   ]
  },
  {
   "cell_type": "code",
   "execution_count": 30,
   "id": "51f95b64",
   "metadata": {},
   "outputs": [],
   "source": [
    "theta_final, cost_history = gradient_descent(X, y, theta, learning_rate=0.01, n_iterations=1000)"
   ]
  },
  {
   "cell_type": "code",
   "execution_count": 31,
   "id": "8fee43f9",
   "metadata": {},
   "outputs": [
    {
     "data": {
      "text/plain": [
       "array([[95.953667  ],\n",
       "       [-1.92724965]])"
      ]
     },
     "execution_count": 31,
     "metadata": {},
     "output_type": "execute_result"
    }
   ],
   "source": [
    "theta_final# voici les parametres du modele une fois que la machine a été entrainée"
   ]
  },
  {
   "cell_type": "code",
   "execution_count": 32,
   "id": "75a55f6b",
   "metadata": {},
   "outputs": [
    {
     "data": {
      "text/plain": [
       "[<matplotlib.lines.Line2D at 0x7fa07c185430>]"
      ]
     },
     "execution_count": 32,
     "metadata": {},
     "output_type": "execute_result"
    },
    {
     "data": {
      "image/png": "[encoded data removed]",
      "text/plain": [
       "<Figure size 432x288 with 1 Axes>"
      ]
     },
     "metadata": {
      "needs_background": "light"
     },
     "output_type": "display_data"
    }
   ],
   "source": [
    "# création d'un vecteur prédictions qui contient les prédictions de notre modele final\n",
    "predictions = model(X, theta_final)\n",
    "\n",
    "# Affiche les résultats de prédictions (en rouge) par rapport a notre Dataset (en bleu)\n",
    "plt.scatter(x, y)\n",
    "plt.plot(x, predictions, c='r')"
   ]
  },
  {
   "cell_type": "markdown",
   "id": "c8981e39",
   "metadata": {},
   "source": [
    "# 6. Courbes d'apprentissage"
   ]
  },
  {
   "cell_type": "raw",
   "id": "d4fb6684",
   "metadata": {},
   "source": [
    "Pour vérifier si notre algorithme de Descente de gradient a bien fonctionné, on observe l'évolution de la fonction cout a travers les itérations. On est sensé obtenir une courbe qui diminue a chaque itération jusqu'a stagner a un niveau minimal (proche de zéro). Si la courbe ne suit pas ce motif, alors le pas learning_rate est peut-etre trop élevé, il faut prendre un pas plus faible."
   ]
  },
  {
   "cell_type": "code",
   "execution_count": 33,
   "id": "9d6da131",
   "metadata": {},
   "outputs": [
    {
     "data": {
      "text/plain": [
       "[<matplotlib.lines.Line2D at 0x7fa07c2b9d60>]"
      ]
     },
     "execution_count": 33,
     "metadata": {},
     "output_type": "execute_result"
    },
    {
     "data": {
      "image/png": "[encoded data removed]",
      "text/plain": [
       "<Figure size 432x288 with 1 Axes>"
      ]
     },
     "metadata": {
      "needs_background": "light"
     },
     "output_type": "display_data"
    }
   ],
   "source": [
    "plt.plot(range(1000), cost_history)"
   ]
  },
  {
   "cell_type": "markdown",
   "id": "7db08293",
   "metadata": {},
   "source": [
    "# 7. Evaluation finale"
   ]
  },
  {
   "cell_type": "raw",
   "id": "dcaee486",
   "metadata": {},
   "source": [
    "Pour évaluer la réelle performance de notre modele avec une métrique populaire (pour votre patron, client, ou vos collegues) on peut utiliser le coefficient de détermination, aussi connu sous le nom R^2. Il nous vient de la méthode des moindres carrés. Plus le résultat est proche de 1, meilleur est votre modele"
   ]
  },
  {
   "cell_type": "code",
   "execution_count": 34,
   "id": "141122c5",
   "metadata": {},
   "outputs": [],
   "source": [
    "def coef_determination(y, pred):\n",
    "    u = ((y - pred)**2).sum()\n",
    "    v = ((y - y.mean())**2).sum()\n",
    "    return 1 - u/v"
   ]
  },
  {
   "cell_type": "code",
   "execution_count": 35,
   "id": "9f18c26a",
   "metadata": {},
   "outputs": [
    {
     "data": {
      "text/plain": [
       "0.990082776925428"
      ]
     },
     "execution_count": 35,
     "metadata": {},
     "output_type": "execute_result"
    }
   ],
   "source": [
    "coef_determination(y, predictions)"
   ]
  },
  {
   "cell_type": "code",
   "execution_count": null,
   "id": "ed9778d4",
   "metadata": {},
   "outputs": [],
   "source": []
  }
 ],
 "metadata": {
  "kernelspec": {
   "display_name": "Python 3",
   "language": "python",
   "name": "python3"
  },
  "language_info": {
   "codemirror_mode": {
    "name": "ipython",
    "version": 3
   },
   "file_extension": ".py",
   "mimetype": "text/x-python",
   "name": "python",
   "nbconvert_exporter": "python",
   "pygments_lexer": "ipython3",
   "version": "3.8.8"
  }
 },
 "nbformat": 4,
 "nbformat_minor": 5
}
